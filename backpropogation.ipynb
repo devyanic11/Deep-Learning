{
  "nbformat": 4,
  "nbformat_minor": 0,
  "metadata": {
    "colab": {
      "provenance": [],
      "authorship_tag": "ABX9TyNs772J3NOGcnn68C1zZ5Kw",
      "include_colab_link": true
    },
    "kernelspec": {
      "name": "python3",
      "display_name": "Python 3"
    },
    "language_info": {
      "name": "python"
    }
  },
  "cells": [
    {
      "cell_type": "markdown",
      "metadata": {
        "id": "view-in-github",
        "colab_type": "text"
      },
      "source": [
        "<a href=\"https://colab.research.google.com/github/devyanic11/Deep-Learning/blob/main/backpropogation.ipynb\" target=\"_parent\"><img src=\"https://colab.research.google.com/assets/colab-badge.svg\" alt=\"Open In Colab\"/></a>"
      ]
    },
    {
      "cell_type": "code",
      "execution_count": 1,
      "metadata": {
        "id": "sfbHELMhuL-N"
      },
      "outputs": [],
      "source": [
        "import numpy as np\n",
        "import pandas as pd"
      ]
    },
    {
      "cell_type": "code",
      "source": [
        "df = pd.DataFrame([[8,8,4], [7,9,5], [6,10,6], [5,12,7]], columns=['cgpa', 'profile_score', 'lpa'])"
      ],
      "metadata": {
        "id": "f1vsGnzSuSxY"
      },
      "execution_count": 3,
      "outputs": []
    },
    {
      "cell_type": "code",
      "source": [
        "df"
      ],
      "metadata": {
        "colab": {
          "base_uri": "https://localhost:8080/",
          "height": 175
        },
        "id": "_wx1DQvHuqmX",
        "outputId": "7cd4cfad-de7b-4a0f-ca52-b31fc14bb209"
      },
      "execution_count": 4,
      "outputs": [
        {
          "output_type": "execute_result",
          "data": {
            "text/plain": [
              "   cgpa  profile_score  lpa\n",
              "0     8              8    4\n",
              "1     7              9    5\n",
              "2     6             10    6\n",
              "3     5             12    7"
            ],
            "text/html": [
              "\n",
              "  <div id=\"df-161cf565-abfd-4af1-b417-950cbaeeb837\" class=\"colab-df-container\">\n",
              "    <div>\n",
              "<style scoped>\n",
              "    .dataframe tbody tr th:only-of-type {\n",
              "        vertical-align: middle;\n",
              "    }\n",
              "\n",
              "    .dataframe tbody tr th {\n",
              "        vertical-align: top;\n",
              "    }\n",
              "\n",
              "    .dataframe thead th {\n",
              "        text-align: right;\n",
              "    }\n",
              "</style>\n",
              "<table border=\"1\" class=\"dataframe\">\n",
              "  <thead>\n",
              "    <tr style=\"text-align: right;\">\n",
              "      <th></th>\n",
              "      <th>cgpa</th>\n",
              "      <th>profile_score</th>\n",
              "      <th>lpa</th>\n",
              "    </tr>\n",
              "  </thead>\n",
              "  <tbody>\n",
              "    <tr>\n",
              "      <th>0</th>\n",
              "      <td>8</td>\n",
              "      <td>8</td>\n",
              "      <td>4</td>\n",
              "    </tr>\n",
              "    <tr>\n",
              "      <th>1</th>\n",
              "      <td>7</td>\n",
              "      <td>9</td>\n",
              "      <td>5</td>\n",
              "    </tr>\n",
              "    <tr>\n",
              "      <th>2</th>\n",
              "      <td>6</td>\n",
              "      <td>10</td>\n",
              "      <td>6</td>\n",
              "    </tr>\n",
              "    <tr>\n",
              "      <th>3</th>\n",
              "      <td>5</td>\n",
              "      <td>12</td>\n",
              "      <td>7</td>\n",
              "    </tr>\n",
              "  </tbody>\n",
              "</table>\n",
              "</div>\n",
              "    <div class=\"colab-df-buttons\">\n",
              "\n",
              "  <div class=\"colab-df-container\">\n",
              "    <button class=\"colab-df-convert\" onclick=\"convertToInteractive('df-161cf565-abfd-4af1-b417-950cbaeeb837')\"\n",
              "            title=\"Convert this dataframe to an interactive table.\"\n",
              "            style=\"display:none;\">\n",
              "\n",
              "  <svg xmlns=\"http://www.w3.org/2000/svg\" height=\"24px\" viewBox=\"0 -960 960 960\">\n",
              "    <path d=\"M120-120v-720h720v720H120Zm60-500h600v-160H180v160Zm220 220h160v-160H400v160Zm0 220h160v-160H400v160ZM180-400h160v-160H180v160Zm440 0h160v-160H620v160ZM180-180h160v-160H180v160Zm440 0h160v-160H620v160Z\"/>\n",
              "  </svg>\n",
              "    </button>\n",
              "\n",
              "  <style>\n",
              "    .colab-df-container {\n",
              "      display:flex;\n",
              "      gap: 12px;\n",
              "    }\n",
              "\n",
              "    .colab-df-convert {\n",
              "      background-color: #E8F0FE;\n",
              "      border: none;\n",
              "      border-radius: 50%;\n",
              "      cursor: pointer;\n",
              "      display: none;\n",
              "      fill: #1967D2;\n",
              "      height: 32px;\n",
              "      padding: 0 0 0 0;\n",
              "      width: 32px;\n",
              "    }\n",
              "\n",
              "    .colab-df-convert:hover {\n",
              "      background-color: #E2EBFA;\n",
              "      box-shadow: 0px 1px 2px rgba(60, 64, 67, 0.3), 0px 1px 3px 1px rgba(60, 64, 67, 0.15);\n",
              "      fill: #174EA6;\n",
              "    }\n",
              "\n",
              "    .colab-df-buttons div {\n",
              "      margin-bottom: 4px;\n",
              "    }\n",
              "\n",
              "    [theme=dark] .colab-df-convert {\n",
              "      background-color: #3B4455;\n",
              "      fill: #D2E3FC;\n",
              "    }\n",
              "\n",
              "    [theme=dark] .colab-df-convert:hover {\n",
              "      background-color: #434B5C;\n",
              "      box-shadow: 0px 1px 3px 1px rgba(0, 0, 0, 0.15);\n",
              "      filter: drop-shadow(0px 1px 2px rgba(0, 0, 0, 0.3));\n",
              "      fill: #FFFFFF;\n",
              "    }\n",
              "  </style>\n",
              "\n",
              "    <script>\n",
              "      const buttonEl =\n",
              "        document.querySelector('#df-161cf565-abfd-4af1-b417-950cbaeeb837 button.colab-df-convert');\n",
              "      buttonEl.style.display =\n",
              "        google.colab.kernel.accessAllowed ? 'block' : 'none';\n",
              "\n",
              "      async function convertToInteractive(key) {\n",
              "        const element = document.querySelector('#df-161cf565-abfd-4af1-b417-950cbaeeb837');\n",
              "        const dataTable =\n",
              "          await google.colab.kernel.invokeFunction('convertToInteractive',\n",
              "                                                    [key], {});\n",
              "        if (!dataTable) return;\n",
              "\n",
              "        const docLinkHtml = 'Like what you see? Visit the ' +\n",
              "          '<a target=\"_blank\" href=https://colab.research.google.com/notebooks/data_table.ipynb>data table notebook</a>'\n",
              "          + ' to learn more about interactive tables.';\n",
              "        element.innerHTML = '';\n",
              "        dataTable['output_type'] = 'display_data';\n",
              "        await google.colab.output.renderOutput(dataTable, element);\n",
              "        const docLink = document.createElement('div');\n",
              "        docLink.innerHTML = docLinkHtml;\n",
              "        element.appendChild(docLink);\n",
              "      }\n",
              "    </script>\n",
              "  </div>\n",
              "\n",
              "\n",
              "<div id=\"df-8b19e5f7-264d-4254-a7a9-979a260d5bbc\">\n",
              "  <button class=\"colab-df-quickchart\" onclick=\"quickchart('df-8b19e5f7-264d-4254-a7a9-979a260d5bbc')\"\n",
              "            title=\"Suggest charts\"\n",
              "            style=\"display:none;\">\n",
              "\n",
              "<svg xmlns=\"http://www.w3.org/2000/svg\" height=\"24px\"viewBox=\"0 0 24 24\"\n",
              "     width=\"24px\">\n",
              "    <g>\n",
              "        <path d=\"M19 3H5c-1.1 0-2 .9-2 2v14c0 1.1.9 2 2 2h14c1.1 0 2-.9 2-2V5c0-1.1-.9-2-2-2zM9 17H7v-7h2v7zm4 0h-2V7h2v10zm4 0h-2v-4h2v4z\"/>\n",
              "    </g>\n",
              "</svg>\n",
              "  </button>\n",
              "\n",
              "<style>\n",
              "  .colab-df-quickchart {\n",
              "      --bg-color: #E8F0FE;\n",
              "      --fill-color: #1967D2;\n",
              "      --hover-bg-color: #E2EBFA;\n",
              "      --hover-fill-color: #174EA6;\n",
              "      --disabled-fill-color: #AAA;\n",
              "      --disabled-bg-color: #DDD;\n",
              "  }\n",
              "\n",
              "  [theme=dark] .colab-df-quickchart {\n",
              "      --bg-color: #3B4455;\n",
              "      --fill-color: #D2E3FC;\n",
              "      --hover-bg-color: #434B5C;\n",
              "      --hover-fill-color: #FFFFFF;\n",
              "      --disabled-bg-color: #3B4455;\n",
              "      --disabled-fill-color: #666;\n",
              "  }\n",
              "\n",
              "  .colab-df-quickchart {\n",
              "    background-color: var(--bg-color);\n",
              "    border: none;\n",
              "    border-radius: 50%;\n",
              "    cursor: pointer;\n",
              "    display: none;\n",
              "    fill: var(--fill-color);\n",
              "    height: 32px;\n",
              "    padding: 0;\n",
              "    width: 32px;\n",
              "  }\n",
              "\n",
              "  .colab-df-quickchart:hover {\n",
              "    background-color: var(--hover-bg-color);\n",
              "    box-shadow: 0 1px 2px rgba(60, 64, 67, 0.3), 0 1px 3px 1px rgba(60, 64, 67, 0.15);\n",
              "    fill: var(--button-hover-fill-color);\n",
              "  }\n",
              "\n",
              "  .colab-df-quickchart-complete:disabled,\n",
              "  .colab-df-quickchart-complete:disabled:hover {\n",
              "    background-color: var(--disabled-bg-color);\n",
              "    fill: var(--disabled-fill-color);\n",
              "    box-shadow: none;\n",
              "  }\n",
              "\n",
              "  .colab-df-spinner {\n",
              "    border: 2px solid var(--fill-color);\n",
              "    border-color: transparent;\n",
              "    border-bottom-color: var(--fill-color);\n",
              "    animation:\n",
              "      spin 1s steps(1) infinite;\n",
              "  }\n",
              "\n",
              "  @keyframes spin {\n",
              "    0% {\n",
              "      border-color: transparent;\n",
              "      border-bottom-color: var(--fill-color);\n",
              "      border-left-color: var(--fill-color);\n",
              "    }\n",
              "    20% {\n",
              "      border-color: transparent;\n",
              "      border-left-color: var(--fill-color);\n",
              "      border-top-color: var(--fill-color);\n",
              "    }\n",
              "    30% {\n",
              "      border-color: transparent;\n",
              "      border-left-color: var(--fill-color);\n",
              "      border-top-color: var(--fill-color);\n",
              "      border-right-color: var(--fill-color);\n",
              "    }\n",
              "    40% {\n",
              "      border-color: transparent;\n",
              "      border-right-color: var(--fill-color);\n",
              "      border-top-color: var(--fill-color);\n",
              "    }\n",
              "    60% {\n",
              "      border-color: transparent;\n",
              "      border-right-color: var(--fill-color);\n",
              "    }\n",
              "    80% {\n",
              "      border-color: transparent;\n",
              "      border-right-color: var(--fill-color);\n",
              "      border-bottom-color: var(--fill-color);\n",
              "    }\n",
              "    90% {\n",
              "      border-color: transparent;\n",
              "      border-bottom-color: var(--fill-color);\n",
              "    }\n",
              "  }\n",
              "</style>\n",
              "\n",
              "  <script>\n",
              "    async function quickchart(key) {\n",
              "      const quickchartButtonEl =\n",
              "        document.querySelector('#' + key + ' button');\n",
              "      quickchartButtonEl.disabled = true;  // To prevent multiple clicks.\n",
              "      quickchartButtonEl.classList.add('colab-df-spinner');\n",
              "      try {\n",
              "        const charts = await google.colab.kernel.invokeFunction(\n",
              "            'suggestCharts', [key], {});\n",
              "      } catch (error) {\n",
              "        console.error('Error during call to suggestCharts:', error);\n",
              "      }\n",
              "      quickchartButtonEl.classList.remove('colab-df-spinner');\n",
              "      quickchartButtonEl.classList.add('colab-df-quickchart-complete');\n",
              "    }\n",
              "    (() => {\n",
              "      let quickchartButtonEl =\n",
              "        document.querySelector('#df-8b19e5f7-264d-4254-a7a9-979a260d5bbc button');\n",
              "      quickchartButtonEl.style.display =\n",
              "        google.colab.kernel.accessAllowed ? 'block' : 'none';\n",
              "    })();\n",
              "  </script>\n",
              "</div>\n",
              "    </div>\n",
              "  </div>\n"
            ]
          },
          "metadata": {},
          "execution_count": 4
        }
      ]
    },
    {
      "cell_type": "code",
      "source": [
        "def initialize_parameters(layer_dims):\n",
        "  #This will create no. of weights and biases according to the layer dimension\n",
        "  #given as parameters\n",
        "  np.random.seed(3)\n",
        "  parameters = {}\n",
        "  L = len(layer_dims)\n",
        "\n",
        "  for l in range(1, L):\n",
        "    parameters['W' + str(l)] = np.ones((layer_dims[l-1], layer_dims[l]))*0.1\n",
        "    parameters['b' + str(l)] = np.zeros((layer_dims[l], 1))\n",
        "\n",
        "  return parameters"
      ],
      "metadata": {
        "id": "MWHYvTo3u1F0"
      },
      "execution_count": 41,
      "outputs": []
    },
    {
      "cell_type": "code",
      "source": [
        "def linear_forward(A_prev, W, b):\n",
        "  Z = np.dot(W.T, A_prev)+b\n",
        "  return Z"
      ],
      "metadata": {
        "id": "OVgEQHrmwTFH"
      },
      "execution_count": 42,
      "outputs": []
    },
    {
      "cell_type": "code",
      "source": [
        "#Forward Propogation\n",
        "def L_layer_forward(X, parameters):\n",
        "  A = X\n",
        "  L = len(parameters) // 2                #no. of layers in Neural Network\n",
        "\n",
        "  for l in range(1, L+1):\n",
        "    A_prev = A\n",
        "    Wl = parameters['W' + str(l)]\n",
        "    bl = parameters['b' + str(l)]\n",
        "    #print(\"A\"+str(l-1)+\": \", A_prev)\n",
        "    #print(\"W\"+str(l)+\": \", Wl)\n",
        "    #print(\"b\"+str(l)+\": \", bl)\n",
        "    #print(\"--\"*20)\n",
        "\n",
        "    A = linear_forward(A_prev, Wl, bl)\n",
        "    #print(\"A\"+str(l)+\": \", A)\n",
        "    #print(\"**\"*20)\n",
        "\n",
        "  return A, A_prev"
      ],
      "metadata": {
        "id": "_lWMycJYyTfi"
      },
      "execution_count": 75,
      "outputs": []
    },
    {
      "cell_type": "code",
      "source": [
        "X = df[['cgpa', 'profile_score']].values[0].reshape(2,1)    #Shape(no of features, no of training examples)\n",
        "y = df[[\"lpa\"]].values[0][0]"
      ],
      "metadata": {
        "id": "Qf2M7HcKzrmW"
      },
      "execution_count": 47,
      "outputs": []
    },
    {
      "cell_type": "code",
      "source": [
        "parameters = initialize_parameters([2,2,1])\n",
        "y_hat, A1 = L_layer_forward(X, parameters)"
      ],
      "metadata": {
        "colab": {
          "base_uri": "https://localhost:8080/"
        },
        "id": "hP3Ynmi60LXH",
        "outputId": "ba53580c-a38d-4246-d787-82764aaaa8f6"
      },
      "execution_count": 55,
      "outputs": [
        {
          "output_type": "stream",
          "name": "stdout",
          "text": [
            "A0:  [[8]\n",
            " [8]]\n",
            "W1:  [[0.1 0.1]\n",
            " [0.1 0.1]]\n",
            "b1:  [[0.]\n",
            " [0.]]\n",
            "----------------------------------------\n",
            "A1:  [[1.6]\n",
            " [1.6]]\n",
            "****************************************\n",
            "A1:  [[1.6]\n",
            " [1.6]]\n",
            "W2:  [[0.1]\n",
            " [0.1]]\n",
            "b2:  [[0.]]\n",
            "----------------------------------------\n",
            "A2:  [[0.32]]\n",
            "****************************************\n"
          ]
        }
      ]
    },
    {
      "cell_type": "code",
      "source": [
        "def update_parameters(parameters, y, y_hat, A1, X):\n",
        "  parameters['W2'][0][0] = parameters['W2'][0][0] + (0.001 * 2 * (y-y_hat)*A1[0][0])\n",
        "  parameters['W2'][1][0] = parameters['W2'][1][0] + (0.001 * 2 * (y-y_hat)*A1[1][0])\n",
        "  parameters['b2'][0][0] = parameters['W2'][1][0] + (0.001 * 2 * (y-y_hat))\n",
        "\n",
        "  parameters['W1'][0][0] = parameters['W1'][0][0] + (0.001 * 2 * (y-y_hat)*parameters['W2'][0][0]*X[0][0])\n",
        "  parameters['W1'][0][1] = parameters['W1'][0][1] + (0.001 * 2 * (y-y_hat)*parameters['W2'][0][0]*X[1][0])\n",
        "  parameters['b1'][0][0] = parameters['W2'][0][0] + (0.001 * 2 * (y-y_hat)*parameters['W2'][0][0])\n",
        "\n",
        "  parameters['W1'][1][0] = parameters['W1'][1][0] + (0.001 * 2 * (y-y_hat)*parameters['W2'][1][0]*X[0][0])\n",
        "  parameters['W1'][1][1] = parameters['W1'][1][1] + (0.001 * 2 * (y-y_hat)*parameters['W2'][1][0]*X[1][0])\n",
        "  parameters['b1'][1][0] = parameters['b1'][1][0] + (0.001 * 2 * (y-y_hat)*parameters['W2'][1][0])\n"
      ],
      "metadata": {
        "id": "eCavtBR60MVa"
      },
      "execution_count": 49,
      "outputs": []
    },
    {
      "cell_type": "code",
      "source": [
        "(y - 0.32)**2"
      ],
      "metadata": {
        "id": "1QQY5W8X3ulR"
      },
      "execution_count": 52,
      "outputs": []
    },
    {
      "cell_type": "code",
      "source": [
        "y_hat=y_hat[0][0]"
      ],
      "metadata": {
        "id": "CEiZnUHS4LId"
      },
      "execution_count": 58,
      "outputs": []
    },
    {
      "cell_type": "code",
      "source": [
        "update_parameters(parameters, y, y_hat, A1, X)"
      ],
      "metadata": {
        "id": "TzOI80eC4db4"
      },
      "execution_count": 64,
      "outputs": []
    },
    {
      "cell_type": "code",
      "source": [
        "parameters"
      ],
      "metadata": {
        "colab": {
          "base_uri": "https://localhost:8080/"
        },
        "id": "uPmxR5Wl4vAY",
        "outputId": "562e47fc-b82e-4337-f333-362edc5d9b9e"
      },
      "execution_count": 65,
      "outputs": [
        {
          "output_type": "execute_result",
          "data": {
            "text/plain": [
              "{'W1': array([[0.10753323, 0.10968558],\n",
              "        [0.10753323, 0.10968558]]),\n",
              " 'b1': array([[0.11605218],\n",
              "        [0.00107618]]),\n",
              " 'W2': array([[0.114976],\n",
              "        [0.114976]]),\n",
              " 'b2': array([[0.124336]])}"
            ]
          },
          "metadata": {},
          "execution_count": 65
        }
      ]
    },
    {
      "cell_type": "code",
      "source": [
        "X = df[['cgpa', 'profile_score']].values[1].reshape(2,1)    #Shape(no of features, no of training examples)\n",
        "y = df[[\"lpa\"]].values[1][0]\n",
        "\n",
        "y_hat, A1 = L_layer_forward(X, parameters)"
      ],
      "metadata": {
        "colab": {
          "base_uri": "https://localhost:8080/"
        },
        "id": "6FsTzuKz4wNw",
        "outputId": "29f5329f-a854-4053-cddc-df939b13058a"
      },
      "execution_count": 66,
      "outputs": [
        {
          "output_type": "stream",
          "name": "stdout",
          "text": [
            "A0:  [[7]\n",
            " [9]]\n",
            "W1:  [[0.10753323 0.10968558]\n",
            " [0.10753323 0.10968558]]\n",
            "b1:  [[0.11605218]\n",
            " [0.00107618]]\n",
            "----------------------------------------\n",
            "A1:  [[1.83658382]\n",
            " [1.75604543]]\n",
            "****************************************\n",
            "A1:  [[1.83658382]\n",
            " [1.75604543]]\n",
            "W2:  [[0.114976]\n",
            " [0.114976]]\n",
            "b2:  [[0.124336]]\n",
            "----------------------------------------\n",
            "A2:  [[0.53740214]]\n",
            "****************************************\n"
          ]
        }
      ]
    },
    {
      "cell_type": "code",
      "source": [
        "update_parameters(parameters, y, y_hat, A1, X)"
      ],
      "metadata": {
        "id": "nZbqMrbf5HWY"
      },
      "execution_count": 67,
      "outputs": []
    },
    {
      "cell_type": "code",
      "source": [
        "parameters"
      ],
      "metadata": {
        "colab": {
          "base_uri": "https://localhost:8080/"
        },
        "id": "mU9bZUkM5fu3",
        "outputId": "259df010-68b0-43b9-e536-092516680187"
      },
      "execution_count": 68,
      "outputs": [
        {
          "output_type": "execute_result",
          "data": {
            "text/plain": [
              "{'W1': array([[0.11574062, 0.12023793],\n",
              "        [0.11569571, 0.12018019]]),\n",
              " 'b1': array([[0.13254035],\n",
              "        [0.00224224]]),\n",
              " 'W2': array([[0.13136787],\n",
              "        [0.13064905]]),\n",
              " 'b2': array([[0.13957424]])}"
            ]
          },
          "metadata": {},
          "execution_count": 68
        }
      ]
    },
    {
      "cell_type": "code",
      "source": [
        "# Epochs Implementation\n",
        "\n",
        "parameters = initialize_parameters([2,2,1])\n",
        "epochs = 5\n",
        "\n",
        "for i in range(epochs):\n",
        "  Loss = []\n",
        "\n",
        "  for j in range(df.shape[0]):\n",
        "    X = df[['cgpa', 'profile_score']].values[j].reshape(2,1)\n",
        "    y = df[['lpa']].values[j][0]\n",
        "\n",
        "    y_hat, A1 = L_layer_forward(X, parameters)\n",
        "    y_hat = y_hat[0][0]\n",
        "\n",
        "    update_parameters(parameters, y, y_hat, A1, X)\n",
        "\n",
        "    Loss.append((y-y_hat)**2)\n",
        "\n",
        "  print('Epoch - ', i+1, 'Loss - ', np.array(Loss).mean())\n",
        "\n",
        "parameters"
      ],
      "metadata": {
        "colab": {
          "base_uri": "https://localhost:8080/"
        },
        "id": "2j507iwN5hK4",
        "outputId": "fb399d5b-f2f5-42a7-a38b-cdfc8ab8ee32"
      },
      "execution_count": 76,
      "outputs": [
        {
          "output_type": "stream",
          "name": "stdout",
          "text": [
            "Epoch -  1 Loss -  25.1639490957267\n",
            "Epoch -  2 Loss -  17.865635116306052\n",
            "Epoch -  3 Loss -  8.91061986469564\n",
            "Epoch -  4 Loss -  2.9738306798886227\n",
            "Epoch -  5 Loss -  1.3184147473712438\n"
          ]
        },
        {
          "output_type": "execute_result",
          "data": {
            "text/plain": [
              "{'W1': array([[0.26468114, 0.38658519],\n",
              "        [0.27047028, 0.3979268 ]]),\n",
              " 'b1': array([[0.4265299],\n",
              "        [0.0285536]]),\n",
              " 'W2': array([[0.42509061],\n",
              "        [0.46967566]]),\n",
              " 'b2': array([[0.4730615]])}"
            ]
          },
          "metadata": {},
          "execution_count": 76
        }
      ]
    },
    {
      "cell_type": "markdown",
      "source": [
        "###Implementing the same in Keras"
      ],
      "metadata": {
        "id": "muxYtAJw7d9h"
      }
    },
    {
      "cell_type": "code",
      "source": [
        "import tensorflow\n",
        "from tensorflow import keras\n",
        "from keras import Sequential\n",
        "from keras.layers import Dense"
      ],
      "metadata": {
        "id": "A4AFpHPl7jAc"
      },
      "execution_count": 77,
      "outputs": []
    },
    {
      "cell_type": "code",
      "source": [
        "model = Sequential()\n",
        "\n",
        "model.add(Dense(2, activation='linear', input_dim = 2))\n",
        "model.add(Dense(1, activation='linear'))"
      ],
      "metadata": {
        "id": "E_UOQhIL7tre"
      },
      "execution_count": 78,
      "outputs": []
    },
    {
      "cell_type": "code",
      "source": [
        "model.summary()"
      ],
      "metadata": {
        "colab": {
          "base_uri": "https://localhost:8080/"
        },
        "id": "udgaPyQc7_bF",
        "outputId": "cf96e1b1-c5e9-45ef-9920-20e103c74327"
      },
      "execution_count": 79,
      "outputs": [
        {
          "output_type": "stream",
          "name": "stdout",
          "text": [
            "Model: \"sequential\"\n",
            "_________________________________________________________________\n",
            " Layer (type)                Output Shape              Param #   \n",
            "=================================================================\n",
            " dense (Dense)               (None, 2)                 6         \n",
            "                                                                 \n",
            " dense_1 (Dense)             (None, 1)                 3         \n",
            "                                                                 \n",
            "=================================================================\n",
            "Total params: 9 (36.00 Byte)\n",
            "Trainable params: 9 (36.00 Byte)\n",
            "Non-trainable params: 0 (0.00 Byte)\n",
            "_________________________________________________________________\n"
          ]
        }
      ]
    },
    {
      "cell_type": "code",
      "source": [
        "model.get_weights()"
      ],
      "metadata": {
        "colab": {
          "base_uri": "https://localhost:8080/"
        },
        "id": "qdu_8b4V8A3p",
        "outputId": "e9e2bb38-af9f-4cd8-dfd2-e19d268b1339"
      },
      "execution_count": 80,
      "outputs": [
        {
          "output_type": "execute_result",
          "data": {
            "text/plain": [
              "[array([[-1.2197026 , -0.24435014],\n",
              "        [-0.90723807,  1.0989827 ]], dtype=float32),\n",
              " array([0., 0.], dtype=float32),\n",
              " array([[ 0.47714913],\n",
              "        [-0.23370159]], dtype=float32),\n",
              " array([0.], dtype=float32)]"
            ]
          },
          "metadata": {},
          "execution_count": 80
        }
      ]
    },
    {
      "cell_type": "code",
      "source": [
        "new_weights = [np.array([[0.1,0.1], [0.1, 0.1]], dtype=np.float32), np.array([0.,0.], dtype=np.float32), np.array([[0.1],[0.1]], dtype=np.float32), np.array([0.], dtype=np.float32)]"
      ],
      "metadata": {
        "id": "uxc-Ntrq8Lxd"
      },
      "execution_count": 81,
      "outputs": []
    },
    {
      "cell_type": "code",
      "source": [
        "model.set_weights(new_weights)"
      ],
      "metadata": {
        "id": "5ZdVVe2k9Qiw"
      },
      "execution_count": 82,
      "outputs": []
    },
    {
      "cell_type": "code",
      "source": [
        "model.get_weights()"
      ],
      "metadata": {
        "colab": {
          "base_uri": "https://localhost:8080/"
        },
        "id": "EGq-MpnW9Up1",
        "outputId": "99d55feb-25e5-4346-97ac-7604b5cce3a2"
      },
      "execution_count": 83,
      "outputs": [
        {
          "output_type": "execute_result",
          "data": {
            "text/plain": [
              "[array([[0.1, 0.1],\n",
              "        [0.1, 0.1]], dtype=float32),\n",
              " array([0., 0.], dtype=float32),\n",
              " array([[0.1],\n",
              "        [0.1]], dtype=float32),\n",
              " array([0.], dtype=float32)]"
            ]
          },
          "metadata": {},
          "execution_count": 83
        }
      ]
    },
    {
      "cell_type": "code",
      "source": [
        "optimizer = keras.optimizers.Adam(learning_rate=0.001)\n",
        "model.compile(loss='mean_squared_error', optimizer=optimizer)"
      ],
      "metadata": {
        "id": "JKz9JjDD9Xj0"
      },
      "execution_count": 84,
      "outputs": []
    },
    {
      "cell_type": "code",
      "source": [
        "model.fit(df.iloc[:,0:-1].values, df['lpa'].values, epochs=75, verbose=1, batch_size=1)"
      ],
      "metadata": {
        "colab": {
          "base_uri": "https://localhost:8080/"
        },
        "id": "5w4YHQAJ9mNw",
        "outputId": "7b0d2159-eb2b-44fb-f88f-3ac8949cbeb4"
      },
      "execution_count": 87,
      "outputs": [
        {
          "output_type": "stream",
          "name": "stdout",
          "text": [
            "Epoch 1/75\n",
            "4/4 [==============================] - 1s 5ms/step - loss: 27.8783\n",
            "Epoch 2/75\n",
            "4/4 [==============================] - 0s 4ms/step - loss: 27.5861\n",
            "Epoch 3/75\n",
            "4/4 [==============================] - 0s 3ms/step - loss: 27.2543\n",
            "Epoch 4/75\n",
            "4/4 [==============================] - 0s 4ms/step - loss: 26.9168\n",
            "Epoch 5/75\n",
            "4/4 [==============================] - 0s 5ms/step - loss: 26.5685\n",
            "Epoch 6/75\n",
            "4/4 [==============================] - 0s 4ms/step - loss: 26.1950\n",
            "Epoch 7/75\n",
            "4/4 [==============================] - 0s 3ms/step - loss: 25.8292\n",
            "Epoch 8/75\n",
            "4/4 [==============================] - 0s 3ms/step - loss: 25.4496\n",
            "Epoch 9/75\n",
            "4/4 [==============================] - 0s 4ms/step - loss: 25.0608\n",
            "Epoch 10/75\n",
            "4/4 [==============================] - 0s 4ms/step - loss: 24.6466\n",
            "Epoch 11/75\n",
            "4/4 [==============================] - 0s 4ms/step - loss: 24.2393\n",
            "Epoch 12/75\n",
            "4/4 [==============================] - 0s 4ms/step - loss: 23.8440\n",
            "Epoch 13/75\n",
            "4/4 [==============================] - 0s 4ms/step - loss: 23.4037\n",
            "Epoch 14/75\n",
            "4/4 [==============================] - 0s 3ms/step - loss: 22.9255\n",
            "Epoch 15/75\n",
            "4/4 [==============================] - 0s 3ms/step - loss: 22.4840\n",
            "Epoch 16/75\n",
            "4/4 [==============================] - 0s 4ms/step - loss: 22.0265\n",
            "Epoch 17/75\n",
            "4/4 [==============================] - 0s 4ms/step - loss: 21.5701\n",
            "Epoch 18/75\n",
            "4/4 [==============================] - 0s 3ms/step - loss: 21.0511\n",
            "Epoch 19/75\n",
            "4/4 [==============================] - 0s 3ms/step - loss: 20.5462\n",
            "Epoch 20/75\n",
            "4/4 [==============================] - 0s 3ms/step - loss: 20.1005\n",
            "Epoch 21/75\n",
            "4/4 [==============================] - 0s 3ms/step - loss: 19.5680\n",
            "Epoch 22/75\n",
            "4/4 [==============================] - 0s 3ms/step - loss: 19.0409\n",
            "Epoch 23/75\n",
            "4/4 [==============================] - 0s 3ms/step - loss: 18.5471\n",
            "Epoch 24/75\n",
            "4/4 [==============================] - 0s 3ms/step - loss: 18.0150\n",
            "Epoch 25/75\n",
            "4/4 [==============================] - 0s 3ms/step - loss: 17.5110\n",
            "Epoch 26/75\n",
            "4/4 [==============================] - 0s 5ms/step - loss: 17.0215\n",
            "Epoch 27/75\n",
            "4/4 [==============================] - 0s 3ms/step - loss: 16.4513\n",
            "Epoch 28/75\n",
            "4/4 [==============================] - 0s 3ms/step - loss: 15.9423\n",
            "Epoch 29/75\n",
            "4/4 [==============================] - 0s 3ms/step - loss: 15.4357\n",
            "Epoch 30/75\n",
            "4/4 [==============================] - 0s 3ms/step - loss: 14.8616\n",
            "Epoch 31/75\n",
            "4/4 [==============================] - 0s 4ms/step - loss: 14.3848\n",
            "Epoch 32/75\n",
            "4/4 [==============================] - 0s 3ms/step - loss: 13.8652\n",
            "Epoch 33/75\n",
            "4/4 [==============================] - 0s 3ms/step - loss: 13.3404\n",
            "Epoch 34/75\n",
            "4/4 [==============================] - 0s 3ms/step - loss: 12.7701\n",
            "Epoch 35/75\n",
            "4/4 [==============================] - 0s 3ms/step - loss: 12.2990\n",
            "Epoch 36/75\n",
            "4/4 [==============================] - 0s 3ms/step - loss: 11.8411\n",
            "Epoch 37/75\n",
            "4/4 [==============================] - 0s 3ms/step - loss: 11.2894\n",
            "Epoch 38/75\n",
            "4/4 [==============================] - 0s 3ms/step - loss: 10.8020\n",
            "Epoch 39/75\n",
            "4/4 [==============================] - 0s 3ms/step - loss: 10.3133\n",
            "Epoch 40/75\n",
            "4/4 [==============================] - 0s 3ms/step - loss: 9.8879\n",
            "Epoch 41/75\n",
            "4/4 [==============================] - 0s 3ms/step - loss: 9.4197\n",
            "Epoch 42/75\n",
            "4/4 [==============================] - 0s 3ms/step - loss: 8.9628\n",
            "Epoch 43/75\n",
            "4/4 [==============================] - 0s 3ms/step - loss: 8.5202\n",
            "Epoch 44/75\n",
            "4/4 [==============================] - 0s 3ms/step - loss: 8.1404\n",
            "Epoch 45/75\n",
            "4/4 [==============================] - 0s 3ms/step - loss: 7.6857\n",
            "Epoch 46/75\n",
            "4/4 [==============================] - 0s 4ms/step - loss: 7.3255\n",
            "Epoch 47/75\n",
            "4/4 [==============================] - 0s 3ms/step - loss: 6.9068\n",
            "Epoch 48/75\n",
            "4/4 [==============================] - 0s 4ms/step - loss: 6.5419\n",
            "Epoch 49/75\n",
            "4/4 [==============================] - 0s 4ms/step - loss: 6.2096\n",
            "Epoch 50/75\n",
            "4/4 [==============================] - 0s 4ms/step - loss: 5.8488\n",
            "Epoch 51/75\n",
            "4/4 [==============================] - 0s 4ms/step - loss: 5.5542\n",
            "Epoch 52/75\n",
            "4/4 [==============================] - 0s 3ms/step - loss: 5.2293\n",
            "Epoch 53/75\n",
            "4/4 [==============================] - 0s 3ms/step - loss: 4.8985\n",
            "Epoch 54/75\n",
            "4/4 [==============================] - 0s 3ms/step - loss: 4.6426\n",
            "Epoch 55/75\n",
            "4/4 [==============================] - 0s 3ms/step - loss: 4.3450\n",
            "Epoch 56/75\n",
            "4/4 [==============================] - 0s 3ms/step - loss: 4.1072\n",
            "Epoch 57/75\n",
            "4/4 [==============================] - 0s 4ms/step - loss: 3.8647\n",
            "Epoch 58/75\n",
            "4/4 [==============================] - 0s 3ms/step - loss: 3.5835\n",
            "Epoch 59/75\n",
            "4/4 [==============================] - 0s 4ms/step - loss: 3.4258\n",
            "Epoch 60/75\n",
            "4/4 [==============================] - 0s 3ms/step - loss: 3.2167\n",
            "Epoch 61/75\n",
            "4/4 [==============================] - 0s 3ms/step - loss: 3.0359\n",
            "Epoch 62/75\n",
            "4/4 [==============================] - 0s 4ms/step - loss: 2.8167\n",
            "Epoch 63/75\n",
            "4/4 [==============================] - 0s 4ms/step - loss: 2.6943\n",
            "Epoch 64/75\n",
            "4/4 [==============================] - 0s 4ms/step - loss: 2.5240\n",
            "Epoch 65/75\n",
            "4/4 [==============================] - 0s 3ms/step - loss: 2.4323\n",
            "Epoch 66/75\n",
            "4/4 [==============================] - 0s 3ms/step - loss: 2.2843\n",
            "Epoch 67/75\n",
            "4/4 [==============================] - 0s 3ms/step - loss: 2.1238\n",
            "Epoch 68/75\n",
            "4/4 [==============================] - 0s 3ms/step - loss: 2.0411\n",
            "Epoch 69/75\n",
            "4/4 [==============================] - 0s 3ms/step - loss: 1.9303\n",
            "Epoch 70/75\n",
            "4/4 [==============================] - 0s 3ms/step - loss: 1.8456\n",
            "Epoch 71/75\n",
            "4/4 [==============================] - 0s 3ms/step - loss: 1.7452\n",
            "Epoch 72/75\n",
            "4/4 [==============================] - 0s 3ms/step - loss: 1.7056\n",
            "Epoch 73/75\n",
            "4/4 [==============================] - 0s 3ms/step - loss: 1.6379\n",
            "Epoch 74/75\n",
            "4/4 [==============================] - 0s 3ms/step - loss: 1.5527\n",
            "Epoch 75/75\n",
            "4/4 [==============================] - 0s 3ms/step - loss: 1.4925\n"
          ]
        },
        {
          "output_type": "execute_result",
          "data": {
            "text/plain": [
              "<keras.src.callbacks.History at 0x7d109d8c59f0>"
            ]
          },
          "metadata": {},
          "execution_count": 87
        }
      ]
    },
    {
      "cell_type": "markdown",
      "source": [
        "<p>check classification code</p>"
      ],
      "metadata": {
        "id": "0H3xsBZvRfwT"
      }
    },
    {
      "cell_type": "code",
      "source": [],
      "metadata": {
        "id": "w0ep4EbIRjrJ"
      },
      "execution_count": null,
      "outputs": []
    }
  ]
}